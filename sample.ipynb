{
 "cells": [
  {
   "cell_type": "code",
   "execution_count": 1,
   "id": "ab415ca4",
   "metadata": {},
   "outputs": [
    {
     "name": "stdout",
     "output_type": "stream",
     "text": [
      "Looking in indexes: https://pypi.org/simple, https://pip.repos.neuron.amazonaws.com\n",
      "Collecting git+https://github.com/SoshiTanabeDS/pipeline-cross-validation.git@refactor-into-script\n",
      "  Cloning https://github.com/SoshiTanabeDS/pipeline-cross-validation.git (to revision refactor-into-script) to /tmp/pip-req-build-gnhf0bpy\n",
      "  Running command git clone --filter=blob:none --quiet https://github.com/SoshiTanabeDS/pipeline-cross-validation.git /tmp/pip-req-build-gnhf0bpy\n",
      "  Running command git checkout -b refactor-into-script --track origin/refactor-into-script\n",
      "  Switched to a new branch 'refactor-into-script'\n",
      "  Branch 'refactor-into-script' set up to track remote branch 'refactor-into-script' from 'origin'.\n",
      "  Resolved https://github.com/SoshiTanabeDS/pipeline-cross-validation.git to commit 61219519308e4d89c00046f610f6133a9abbd007\n",
      "  Preparing metadata (setup.py) ... \u001b[?25ldone\n",
      "\u001b[33mWARNING: You are using pip version 22.0.4; however, version 22.1.2 is available.\n",
      "You should consider upgrading via the '/home/ec2-user/anaconda3/envs/python3/bin/python -m pip install --upgrade pip' command.\u001b[0m\u001b[33m\n",
      "\u001b[0m\u001b[?25h"
     ]
    }
   ],
   "source": [
    "!pip install git+https://github.com/SoshiTanabeDS/pipeline-cross-validation.git@refactor-into-script"
   ]
  },
  {
   "cell_type": "code",
   "execution_count": 2,
   "id": "0e800e07",
   "metadata": {},
   "outputs": [],
   "source": [
    "import os\n",
    "\n",
    "bucket = \"pipeline-cross-validation\"\n",
    "prefix = \"data\"\n",
    "src_path = f\"s3://{bucket}/{prefix}\""
   ]
  },
  {
   "cell_type": "code",
   "execution_count": 3,
   "id": "e7f57338",
   "metadata": {},
   "outputs": [],
   "source": [
    "def create_iter_steps(iteration):\n",
    "    \n",
    "    # Parameters\n",
    "    num_class = 8\n",
    "    task_name = f\"train_iter{iteration}\"\n",
    "    src_train_path = os.path.join(src_path, f\"iter{iteration}\")\n",
    "    src_test_path = os.path.join(src_path, \"test/features\")\n",
    "    dst_model_path = os.path.join(src_path, f\"model_train/iter{iteration}\")\n",
    "    dst_test_path = os.path.join(src_path, f\"output/iter{iteration}\")\n",
    "    hyperparameters = {\n",
    "        \"num_class\":num_class,\n",
    "        \"max_depth\":\"5\",\n",
    "        \"eta\":\"0.2\",\n",
    "        \"min_child_weight\":\"1\",\n",
    "        \"objective\":\"multi:softmax\",\n",
    "        \"eval_metric\":\"mlogloss\",\n",
    "        \"num_round\":\"500\",\n",
    "        \"tree_method\":\"gpu_hist\",\n",
    "        \"early_stopping_rounds\":\"10\",\n",
    "        # \"csv_weights\": \"1\"\n",
    "    }\n",
    "\n",
    "    from pipeline_cv.xgboost import create_steps\n",
    "    steps = create_steps(\n",
    "        task_name,\n",
    "        src_train_path,\n",
    "        src_test_path,\n",
    "        dst_model_path,\n",
    "        dst_test_path,\n",
    "        training_instance_type,\n",
    "        model_instance_type,\n",
    "        hyperparameters\n",
    "    )\n",
    "    \n",
    "    return steps"
   ]
  },
  {
   "cell_type": "code",
   "execution_count": 4,
   "id": "8f1cc6e4",
   "metadata": {},
   "outputs": [],
   "source": [
    "from sagemaker.workflow.parameters import ParameterString\n",
    "\n",
    "training_instance_type = ParameterString(\n",
    "    name=\"TrainingInstanceType\",\n",
    "    default_value=\"ml.p3.2xlarge\"\n",
    ")\n",
    "model_instance_type = ParameterString(\n",
    "    name=\"ModelInstanceType\",\n",
    "    default_value=\"ml.m5.large\"\n",
    ")\n"
   ]
  },
  {
   "cell_type": "code",
   "execution_count": 5,
   "id": "b472c095",
   "metadata": {},
   "outputs": [],
   "source": [
    "iterations = 4\n",
    "whole_steps = []\n",
    "for iteration in range(iterations):\n",
    "    steps = create_iter_steps(iteration)\n",
    "    whole_steps.extend(steps)"
   ]
  },
  {
   "cell_type": "code",
   "execution_count": 7,
   "id": "f5aebad9",
   "metadata": {},
   "outputs": [],
   "source": [
    "from sagemaker.workflow.pipeline import Pipeline\n",
    "\n",
    "pipeline_name = f\"220716Pipeline3\"\n",
    "\n",
    "pipeline = Pipeline(\n",
    "    name=pipeline_name,\n",
    "    parameters=[\n",
    "        training_instance_type,\n",
    "        model_instance_type\n",
    "        ],\n",
    "    steps=whole_steps,\n",
    ")"
   ]
  },
  {
   "cell_type": "code",
   "execution_count": 9,
   "id": "d25b3120",
   "metadata": {},
   "outputs": [],
   "source": [
    "from sagemaker import get_execution_role\n",
    "pipeline.upsert(role_arn=get_execution_role())\n",
    "execution = pipeline.start()"
   ]
  },
  {
   "cell_type": "code",
   "execution_count": 11,
   "id": "a8bd616c",
   "metadata": {},
   "outputs": [
    {
     "data": {
      "text/plain": [
       "[{'StepName': 'train_iter1',\n",
       "  'StartTime': datetime.datetime(2022, 7, 16, 7, 22, 33, 965000, tzinfo=tzlocal()),\n",
       "  'StepStatus': 'Executing',\n",
       "  'AttemptCount': 0,\n",
       "  'Metadata': {'TrainingJob': {'Arn': 'arn:aws:sagemaker:us-east-2:173863741403:training-job/pipelines-ld3u7wmvyu9p-train-iter1-58aw7xs4zw'}}},\n",
       " {'StepName': 'train_iter2',\n",
       "  'StartTime': datetime.datetime(2022, 7, 16, 7, 22, 33, 965000, tzinfo=tzlocal()),\n",
       "  'StepStatus': 'Starting',\n",
       "  'AttemptCount': 0,\n",
       "  'Metadata': {}},\n",
       " {'StepName': 'train_iter3',\n",
       "  'StartTime': datetime.datetime(2022, 7, 16, 7, 22, 33, 965000, tzinfo=tzlocal()),\n",
       "  'StepStatus': 'Starting',\n",
       "  'AttemptCount': 0,\n",
       "  'Metadata': {}},\n",
       " {'StepName': 'train_iter0',\n",
       "  'StartTime': datetime.datetime(2022, 7, 16, 7, 22, 33, 964000, tzinfo=tzlocal()),\n",
       "  'StepStatus': 'Executing',\n",
       "  'AttemptCount': 0,\n",
       "  'Metadata': {'TrainingJob': {'Arn': 'arn:aws:sagemaker:us-east-2:173863741403:training-job/pipelines-ld3u7wmvyu9p-train-iter0-th9cs0vqwl'}}}]"
      ]
     },
     "execution_count": 11,
     "metadata": {},
     "output_type": "execute_result"
    }
   ],
   "source": [
    "execution.list_steps()"
   ]
  },
  {
   "cell_type": "code",
   "execution_count": null,
   "id": "038ad27c",
   "metadata": {},
   "outputs": [],
   "source": [
    "execution.describe()"
   ]
  },
  {
   "cell_type": "code",
   "execution_count": null,
   "id": "1b59b647",
   "metadata": {},
   "outputs": [],
   "source": []
  }
 ],
 "metadata": {
  "kernelspec": {
   "display_name": "Python 3.8.12 64-bit",
   "language": "python",
   "name": "python3"
  },
  "language_info": {
   "codemirror_mode": {
    "name": "ipython",
    "version": 3
   },
   "file_extension": ".py",
   "mimetype": "text/x-python",
   "name": "python",
   "nbconvert_exporter": "python",
   "pygments_lexer": "ipython3",
   "version": "3.8.12"
  },
  "vscode": {
   "interpreter": {
    "hash": "0d945c57e8034a0ccf5ebf7aa6b91b06f59152fd43a3878b4974bb7a9f23573b"
   }
  }
 },
 "nbformat": 4,
 "nbformat_minor": 5
}
