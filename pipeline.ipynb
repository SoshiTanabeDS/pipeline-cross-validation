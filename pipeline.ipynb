{
 "cells": [
  {
   "cell_type": "code",
   "execution_count": 1,
   "id": "f9d2394f",
   "metadata": {},
   "outputs": [],
   "source": [
    "import sagemaker\n",
    "\n",
    "sagemaker_session = sagemaker.session.Session()\n",
    "role = sagemaker.get_execution_role()\n",
    "\n",
    "bucket = \"pipeline-cross-validation\"\n",
    "prefix = \"data\"\n",
    "num_class = 8"
   ]
  },
  {
   "cell_type": "code",
   "execution_count": 2,
   "id": "6c3a3179",
   "metadata": {},
   "outputs": [],
   "source": [
    "from sagemaker.workflow.parameters import ParameterString\n",
    "\n",
    "training_instance_type = ParameterString(\n",
    "    name=\"TrainingInstanceType\",\n",
    "    default_value=\"ml.p3.2xlarge\"\n",
    ")\n",
    "src_test_path = ParameterString(\n",
    "    name=\"src_test_path\",\n",
    "    default_value=f\"s3://{bucket}/{prefix}/test/features/\",\n",
    ")\n",
    "\n",
    "model_instance_type = \"ml.m5.large\","
   ]
  },
  {
   "cell_type": "code",
   "execution_count": 4,
   "id": "804729b4",
   "metadata": {},
   "outputs": [],
   "source": [
    "hyperparameters = {\n",
    "    \"num_class\":num_class,\n",
    "    \"max_depth\":\"5\",\n",
    "    \"eta\":\"0.2\",\n",
    "    \"min_child_weight\":\"1\",\n",
    "    \"objective\":\"multi:softmax\",\n",
    "    \"eval_metric\":\"mlogloss\",\n",
    "    \"num_round\":\"500\",\n",
    "    \"tree_method\":\"gpu_hist\",\n",
    "    \"early_stopping_rounds\":\"10\",\n",
    "    # \"csv_weights\": \"1\"\n",
    "}"
   ]
  },
  {
   "cell_type": "code",
   "execution_count": 5,
   "id": "c595a3da",
   "metadata": {
    "jupyter": {
     "source_hidden": true
    }
   },
   "outputs": [],
   "source": [
    "def create_steps(iteration):\n",
    "    \n",
    "    # Parameters\n",
    "    src_train_path = f\"s3://{bucket}/{prefix}/iter{iteration}\"\n",
    "    dst_model_path = f\"s3://{bucket}/{prefix}/model_train/iter{iteration}\"\n",
    "    train_name = f\"train_iter{iteration}\"\n",
    "    model_name = train_name.replace(\"_\", \"-\")\n",
    "    dst_test_path = f\"s3://{bucket}/{prefix}/output/iter{iteration}\"\n",
    "    transform_name = f\"transform_iter{iteration}\"\n",
    "    \n",
    "    from pipeline_cv.xgboost import get_step_train\n",
    "    step_train = get_step_train(\n",
    "        train_name,\n",
    "        training_instance_type,\n",
    "        hyperparameters,\n",
    "        dst_model_path,\n",
    "        src_train_path\n",
    "    )\n",
    "    \n",
    "    from pipeline_cv.xgboost import get_step_model\n",
    "    step_create_model = get_step_model(\n",
    "        training_instance_type,\n",
    "        step_train,\n",
    "        model_name,\n",
    "        model_instance_type\n",
    "    )\n",
    "    \n",
    "    from pipeline_cv.xgboost import get_step_transform\n",
    "    step_transform = get_step_transform(\n",
    "        step_create_model,\n",
    "        model_instance_type,\n",
    "        dst_test_path,\n",
    "        transform_name,\n",
    "        src_test_path\n",
    "    )\n",
    "    \n",
    "    steps = [\n",
    "        step_train,\n",
    "        step_create_model,\n",
    "        step_transform,\n",
    "    ]\n",
    "    \n",
    "    return steps"
   ]
  },
  {
   "cell_type": "code",
   "execution_count": 6,
   "id": "12b27425",
   "metadata": {},
   "outputs": [],
   "source": [
    "iterations = 4\n",
    "whole_steps = []\n",
    "for iteration in range(iterations):\n",
    "    steps = create_steps(iteration)\n",
    "    whole_steps.extend(steps)"
   ]
  },
  {
   "cell_type": "code",
   "execution_count": 7,
   "id": "438a3aeb",
   "metadata": {
    "jupyter": {
     "source_hidden": true
    }
   },
   "outputs": [],
   "source": [
    "from sagemaker.workflow.pipeline import Pipeline\n",
    "\n",
    "pipeline_name = f\"220709Pipeline2\"\n",
    "\n",
    "pipeline = Pipeline(\n",
    "    name=pipeline_name,\n",
    "    parameters=[training_instance_type, src_test_path],\n",
    "    steps=whole_steps,\n",
    ")"
   ]
  },
  {
   "cell_type": "code",
   "execution_count": 8,
   "id": "1eb5fa50",
   "metadata": {},
   "outputs": [],
   "source": [
    "pipeline.upsert(role_arn=role)\n",
    "execution = pipeline.start()"
   ]
  },
  {
   "cell_type": "code",
   "execution_count": 19,
   "id": "d66b8223",
   "metadata": {},
   "outputs": [
    {
     "data": {
      "text/plain": [
       "[{'StepName': 'transform_iter0',\n",
       "  'StartTime': datetime.datetime(2022, 7, 9, 9, 19, 43, 922000, tzinfo=tzlocal()),\n",
       "  'StepStatus': 'Executing',\n",
       "  'AttemptCount': 0,\n",
       "  'Metadata': {'TransformJob': {'Arn': 'arn:aws:sagemaker:us-east-2:173863741403:transform-job/pipelines-rfvats4iv8wu-transform-iter0-gtbzsfdeso'}}},\n",
       " {'StepName': 'train-iter0',\n",
       "  'StartTime': datetime.datetime(2022, 7, 9, 9, 19, 41, 694000, tzinfo=tzlocal()),\n",
       "  'EndTime': datetime.datetime(2022, 7, 9, 9, 19, 43, 135000, tzinfo=tzlocal()),\n",
       "  'StepStatus': 'Succeeded',\n",
       "  'AttemptCount': 0,\n",
       "  'Metadata': {'Model': {'Arn': 'arn:aws:sagemaker:us-east-2:173863741403:model/pipelines-rfvats4iv8wu-train-iter0-ovzktsordp'}}},\n",
       " {'StepName': 'transform_iter2',\n",
       "  'StartTime': datetime.datetime(2022, 7, 9, 9, 19, 35, 338000, tzinfo=tzlocal()),\n",
       "  'StepStatus': 'Executing',\n",
       "  'AttemptCount': 0,\n",
       "  'Metadata': {'TransformJob': {'Arn': 'arn:aws:sagemaker:us-east-2:173863741403:transform-job/pipelines-rfvats4iv8wu-transform-iter2-w3smhrb4x2'}}},\n",
       " {'StepName': 'train-iter2',\n",
       "  'StartTime': datetime.datetime(2022, 7, 9, 9, 19, 33, 548000, tzinfo=tzlocal()),\n",
       "  'EndTime': datetime.datetime(2022, 7, 9, 9, 19, 34, 704000, tzinfo=tzlocal()),\n",
       "  'StepStatus': 'Succeeded',\n",
       "  'AttemptCount': 0,\n",
       "  'Metadata': {'Model': {'Arn': 'arn:aws:sagemaker:us-east-2:173863741403:model/pipelines-rfvats4iv8wu-train-iter2-5a4o5aplev'}}},\n",
       " {'StepName': 'train_iter1',\n",
       "  'StartTime': datetime.datetime(2022, 7, 9, 9, 15, 31, 768000, tzinfo=tzlocal()),\n",
       "  'StepStatus': 'Executing',\n",
       "  'AttemptCount': 0,\n",
       "  'Metadata': {'TrainingJob': {'Arn': 'arn:aws:sagemaker:us-east-2:173863741403:training-job/pipelines-rfvats4iv8wu-train-iter1-y1t7llfvqe-3'}}},\n",
       " {'StepName': 'train_iter0',\n",
       "  'StartTime': datetime.datetime(2022, 7, 9, 9, 15, 31, 768000, tzinfo=tzlocal()),\n",
       "  'EndTime': datetime.datetime(2022, 7, 9, 9, 19, 40, 945000, tzinfo=tzlocal()),\n",
       "  'StepStatus': 'Succeeded',\n",
       "  'AttemptCount': 0,\n",
       "  'Metadata': {'TrainingJob': {'Arn': 'arn:aws:sagemaker:us-east-2:173863741403:training-job/pipelines-rfvats4iv8wu-train-iter0-nxmryxao7k'}}},\n",
       " {'StepName': 'train_iter2',\n",
       "  'StartTime': datetime.datetime(2022, 7, 9, 9, 15, 31, 768000, tzinfo=tzlocal()),\n",
       "  'EndTime': datetime.datetime(2022, 7, 9, 9, 19, 32, 844000, tzinfo=tzlocal()),\n",
       "  'StepStatus': 'Succeeded',\n",
       "  'AttemptCount': 0,\n",
       "  'Metadata': {'TrainingJob': {'Arn': 'arn:aws:sagemaker:us-east-2:173863741403:training-job/pipelines-rfvats4iv8wu-train-iter2-khzmnrn5tr'}}},\n",
       " {'StepName': 'train_iter3',\n",
       "  'StartTime': datetime.datetime(2022, 7, 9, 9, 15, 31, 768000, tzinfo=tzlocal()),\n",
       "  'StepStatus': 'Starting',\n",
       "  'AttemptCount': 0,\n",
       "  'Metadata': {}}]"
      ]
     },
     "execution_count": 19,
     "metadata": {},
     "output_type": "execute_result"
    }
   ],
   "source": [
    "execution.list_steps()"
   ]
  },
  {
   "cell_type": "code",
   "execution_count": 18,
   "id": "0562a3e8",
   "metadata": {},
   "outputs": [
    {
     "data": {
      "text/plain": [
       "{'PipelineArn': 'arn:aws:sagemaker:us-east-2:173863741403:pipeline/220709pipeline2',\n",
       " 'PipelineExecutionArn': 'arn:aws:sagemaker:us-east-2:173863741403:pipeline/220709pipeline2/execution/rfvats4iv8wu',\n",
       " 'PipelineExecutionDisplayName': 'execution-1657358129776',\n",
       " 'PipelineExecutionStatus': 'Executing',\n",
       " 'PipelineExperimentConfig': {'ExperimentName': '220709pipeline2',\n",
       "  'TrialName': 'rfvats4iv8wu'},\n",
       " 'CreationTime': datetime.datetime(2022, 7, 9, 9, 15, 29, 692000, tzinfo=tzlocal()),\n",
       " 'LastModifiedTime': datetime.datetime(2022, 7, 9, 9, 15, 29, 692000, tzinfo=tzlocal()),\n",
       " 'CreatedBy': {},\n",
       " 'LastModifiedBy': {},\n",
       " 'ResponseMetadata': {'RequestId': 'df595c39-9f4b-4d90-a0d8-631a6ca2cf0f',\n",
       "  'HTTPStatusCode': 200,\n",
       "  'HTTPHeaders': {'x-amzn-requestid': 'df595c39-9f4b-4d90-a0d8-631a6ca2cf0f',\n",
       "   'content-type': 'application/x-amz-json-1.1',\n",
       "   'content-length': '486',\n",
       "   'date': 'Sat, 09 Jul 2022 09:22:22 GMT'},\n",
       "  'RetryAttempts': 0}}"
      ]
     },
     "execution_count": 18,
     "metadata": {},
     "output_type": "execute_result"
    }
   ],
   "source": [
    "execution.describe()"
   ]
  },
  {
   "cell_type": "code",
   "execution_count": null,
   "id": "f840f2f0",
   "metadata": {},
   "outputs": [],
   "source": []
  }
 ],
 "metadata": {
  "kernelspec": {
   "display_name": "Python 3.8.12 64-bit",
   "language": "python",
   "name": "python3"
  },
  "language_info": {
   "codemirror_mode": {
    "name": "ipython",
    "version": 3
   },
   "file_extension": ".py",
   "mimetype": "text/x-python",
   "name": "python",
   "nbconvert_exporter": "python",
   "pygments_lexer": "ipython3",
   "version": "3.8.12"
  },
  "vscode": {
   "interpreter": {
    "hash": "0d945c57e8034a0ccf5ebf7aa6b91b06f59152fd43a3878b4974bb7a9f23573b"
   }
  }
 },
 "nbformat": 4,
 "nbformat_minor": 5
}
