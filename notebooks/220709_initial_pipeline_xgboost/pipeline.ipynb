{
 "cells": [
  {
   "cell_type": "code",
   "execution_count": 1,
   "id": "f9d2394f",
   "metadata": {},
   "outputs": [],
   "source": [
    "import sagemaker\n",
    "\n",
    "sagemaker_session = sagemaker.session.Session()\n",
    "role = sagemaker.get_execution_role()\n",
    "\n",
    "bucket = \"pipeline-cross-validation\"\n",
    "prefix = \"data\"\n",
    "num_class = 8"
   ]
  },
  {
   "cell_type": "code",
   "execution_count": 2,
   "id": "6c3a3179",
   "metadata": {},
   "outputs": [],
   "source": [
    "from sagemaker.workflow.parameters import ParameterString\n",
    "\n",
    "training_instance_type = ParameterString(\n",
    "    name=\"TrainingInstanceType\",\n",
    "    default_value=\"ml.p3.2xlarge\"\n",
    ")\n",
    "batch_data = ParameterString(\n",
    "    name=\"BatchData\",\n",
    "    default_value=f\"s3://{bucket}/{prefix}/test/features/\",\n",
    ")"
   ]
  },
  {
   "cell_type": "code",
   "execution_count": 3,
   "id": "630e98f5",
   "metadata": {},
   "outputs": [],
   "source": [
    "from sagemaker.workflow.retry import (\n",
    "    StepRetryPolicy, \n",
    "    StepExceptionTypeEnum,\n",
    "    SageMakerJobExceptionTypeEnum,\n",
    "    SageMakerJobStepRetryPolicy\n",
    ")\n",
    "\n",
    "retry_policies=[\n",
    "    StepRetryPolicy(\n",
    "        exception_types=[\n",
    "            StepExceptionTypeEnum.SERVICE_FAULT, \n",
    "            StepExceptionTypeEnum.THROTTLING\n",
    "        ],\n",
    "        expire_after_mins=5,\n",
    "        interval_seconds=10,\n",
    "        backoff_rate=2.0 \n",
    "    ),\n",
    "    SageMakerJobStepRetryPolicy(\n",
    "        exception_types=[SageMakerJobExceptionTypeEnum.RESOURCE_LIMIT],\n",
    "        expire_after_mins=120,\n",
    "        interval_seconds=60,\n",
    "        backoff_rate=2.0\n",
    "    ),\n",
    "    SageMakerJobStepRetryPolicy(\n",
    "        failure_reason_types=[\n",
    "            SageMakerJobExceptionTypeEnum.INTERNAL_ERROR,\n",
    "            SageMakerJobExceptionTypeEnum.CAPACITY_ERROR,\n",
    "        ],\n",
    "        max_attempts=10,\n",
    "        interval_seconds=30,\n",
    "        backoff_rate=2.0\n",
    "    )\n",
    "]\n"
   ]
  },
  {
   "cell_type": "code",
   "execution_count": 4,
   "id": "804729b4",
   "metadata": {},
   "outputs": [],
   "source": [
    "hyperparameters = {\n",
    "    \"num_class\":num_class,\n",
    "    \"max_depth\":\"5\",\n",
    "    \"eta\":\"0.2\",\n",
    "    \"min_child_weight\":\"1\",\n",
    "    \"objective\":\"multi:softmax\",\n",
    "    \"eval_metric\":\"mlogloss\",\n",
    "    \"num_round\":\"500\",\n",
    "    \"tree_method\":\"gpu_hist\",\n",
    "    \"early_stopping_rounds\":\"10\",\n",
    "    # \"csv_weights\": \"1\"\n",
    "}"
   ]
  },
  {
   "cell_type": "code",
   "execution_count": 5,
   "id": "c595a3da",
   "metadata": {
    "jupyter": {
     "source_hidden": true
    }
   },
   "outputs": [],
   "source": [
    "def create_steps(iteration):\n",
    "    \n",
    "    # Parameters\n",
    "    dst_model_path = f\"s3://{bucket}/{prefix}/model_train/iter{iteration}\"\n",
    "    train_name = f\"train_iter{iteration}\"\n",
    "    model_name = train_name.replace(\"_\", \"-\")\n",
    "    dst_test_path = f\"s3://{bucket}/{prefix}/output/iter{iteration}\"\n",
    "    transform_name = f\"transform_iter{iteration}\"\n",
    "    \n",
    "    # Training Step\n",
    "    image_uri = sagemaker.image_uris.retrieve(\n",
    "        framework=\"xgboost\",\n",
    "        region=sagemaker_session.boto_region_name,\n",
    "        version=\"1.2-2\",\n",
    "        py_version=\"py3\",\n",
    "        instance_type=training_instance_type,\n",
    "    )\n",
    "    \n",
    "    from sagemaker.estimator import Estimator\n",
    "    xgb_train = Estimator(\n",
    "        image_uri=image_uri,\n",
    "        hyperparameters=hyperparameters,\n",
    "        instance_type=training_instance_type,\n",
    "        instance_count=1,\n",
    "        output_path=dst_model_path,\n",
    "        role=role,\n",
    "    )\n",
    "    \n",
    "    from sagemaker.inputs import TrainingInput\n",
    "    from sagemaker.workflow.steps import TrainingStep\n",
    "    step_train = TrainingStep(\n",
    "        name=train_name,\n",
    "        estimator=xgb_train,\n",
    "        inputs={\n",
    "            \"train\": TrainingInput(\n",
    "                s3_data=f\"s3://{bucket}/{prefix}/iter{iteration}/train/\",\n",
    "                content_type=\"text/csv\"\n",
    "            ),\n",
    "            \"validation\": TrainingInput(\n",
    "                s3_data=f\"s3://{bucket}/{prefix}/iter{iteration}/validation/\",\n",
    "                content_type=\"text/csv\"\n",
    "            )\n",
    "        },\n",
    "        retry_policies=retry_policies,\n",
    "    )\n",
    "    \n",
    "    # Model Step\n",
    "    from sagemaker.model import Model\n",
    "    model = Model(\n",
    "        image_uri=image_uri,\n",
    "        model_data=step_train.properties.ModelArtifacts.S3ModelArtifacts,\n",
    "        sagemaker_session=sagemaker_session,\n",
    "        role=role,\n",
    "    )\n",
    "    \n",
    "    from sagemaker.inputs import CreateModelInput\n",
    "    from sagemaker.workflow.steps import CreateModelStep\n",
    "    inputs = CreateModelInput(\n",
    "        instance_type=\"ml.m5.large\",\n",
    "    #     accelerator_type=\"ml.eia1.medium\",\n",
    "    )\n",
    "    \n",
    "    step_create_model = CreateModelStep(\n",
    "        name=model_name,\n",
    "        model=model,\n",
    "        inputs=inputs,\n",
    "    )\n",
    "    \n",
    "    # Transform Step\n",
    "    from sagemaker.transformer import Transformer\n",
    "    transformer = Transformer(\n",
    "        model_name=step_create_model.properties.ModelName,\n",
    "        instance_type=\"ml.m5.xlarge\",\n",
    "        instance_count=1,\n",
    "        assemble_with=\"Line\",\n",
    "        output_path=dst_test_path\n",
    "    )\n",
    "    \n",
    "    from sagemaker.inputs import TransformInput\n",
    "    from sagemaker.workflow.steps import TransformStep\n",
    "    step_transform = TransformStep(\n",
    "        name=transform_name,\n",
    "        transformer=transformer,\n",
    "        inputs=TransformInput(\n",
    "            data=batch_data,\n",
    "            content_type=\"csv\",\n",
    "            split_type=\"Line\",\n",
    "        ),\n",
    "        retry_policies=retry_policies,\n",
    "    )\n",
    "    \n",
    "    steps = [\n",
    "        step_train,\n",
    "        step_create_model,\n",
    "        step_transform,\n",
    "    ]\n",
    "    \n",
    "    return steps"
   ]
  },
  {
   "cell_type": "code",
   "execution_count": 6,
   "id": "12b27425",
   "metadata": {},
   "outputs": [],
   "source": [
    "iterations = 4\n",
    "whole_steps = []\n",
    "for iteration in range(iterations):\n",
    "    steps = create_steps(iteration)\n",
    "    whole_steps.extend(steps)"
   ]
  },
  {
   "cell_type": "code",
   "execution_count": 7,
   "id": "438a3aeb",
   "metadata": {
    "jupyter": {
     "source_hidden": true
    }
   },
   "outputs": [],
   "source": [
    "from sagemaker.workflow.pipeline import Pipeline\n",
    "\n",
    "pipeline_name = f\"220709Pipeline2\"\n",
    "\n",
    "pipeline = Pipeline(\n",
    "    name=pipeline_name,\n",
    "    parameters=[training_instance_type, batch_data],\n",
    "    steps=whole_steps,\n",
    ")\n"
   ]
  },
  {
   "cell_type": "code",
   "execution_count": 8,
   "id": "1eb5fa50",
   "metadata": {},
   "outputs": [],
   "source": [
    "pipeline.upsert(role_arn=role)\n",
    "execution = pipeline.start()"
   ]
  },
  {
   "cell_type": "code",
   "execution_count": 19,
   "id": "d66b8223",
   "metadata": {},
   "outputs": [
    {
     "data": {
      "text/plain": [
       "[{'StepName': 'transform_iter0',\n",
       "  'StartTime': datetime.datetime(2022, 7, 9, 9, 19, 43, 922000, tzinfo=tzlocal()),\n",
       "  'StepStatus': 'Executing',\n",
       "  'AttemptCount': 0,\n",
       "  'Metadata': {'TransformJob': {'Arn': 'arn:aws:sagemaker:us-east-2:173863741403:transform-job/pipelines-rfvats4iv8wu-transform-iter0-gtbzsfdeso'}}},\n",
       " {'StepName': 'train-iter0',\n",
       "  'StartTime': datetime.datetime(2022, 7, 9, 9, 19, 41, 694000, tzinfo=tzlocal()),\n",
       "  'EndTime': datetime.datetime(2022, 7, 9, 9, 19, 43, 135000, tzinfo=tzlocal()),\n",
       "  'StepStatus': 'Succeeded',\n",
       "  'AttemptCount': 0,\n",
       "  'Metadata': {'Model': {'Arn': 'arn:aws:sagemaker:us-east-2:173863741403:model/pipelines-rfvats4iv8wu-train-iter0-ovzktsordp'}}},\n",
       " {'StepName': 'transform_iter2',\n",
       "  'StartTime': datetime.datetime(2022, 7, 9, 9, 19, 35, 338000, tzinfo=tzlocal()),\n",
       "  'StepStatus': 'Executing',\n",
       "  'AttemptCount': 0,\n",
       "  'Metadata': {'TransformJob': {'Arn': 'arn:aws:sagemaker:us-east-2:173863741403:transform-job/pipelines-rfvats4iv8wu-transform-iter2-w3smhrb4x2'}}},\n",
       " {'StepName': 'train-iter2',\n",
       "  'StartTime': datetime.datetime(2022, 7, 9, 9, 19, 33, 548000, tzinfo=tzlocal()),\n",
       "  'EndTime': datetime.datetime(2022, 7, 9, 9, 19, 34, 704000, tzinfo=tzlocal()),\n",
       "  'StepStatus': 'Succeeded',\n",
       "  'AttemptCount': 0,\n",
       "  'Metadata': {'Model': {'Arn': 'arn:aws:sagemaker:us-east-2:173863741403:model/pipelines-rfvats4iv8wu-train-iter2-5a4o5aplev'}}},\n",
       " {'StepName': 'train_iter1',\n",
       "  'StartTime': datetime.datetime(2022, 7, 9, 9, 15, 31, 768000, tzinfo=tzlocal()),\n",
       "  'StepStatus': 'Executing',\n",
       "  'AttemptCount': 0,\n",
       "  'Metadata': {'TrainingJob': {'Arn': 'arn:aws:sagemaker:us-east-2:173863741403:training-job/pipelines-rfvats4iv8wu-train-iter1-y1t7llfvqe-3'}}},\n",
       " {'StepName': 'train_iter0',\n",
       "  'StartTime': datetime.datetime(2022, 7, 9, 9, 15, 31, 768000, tzinfo=tzlocal()),\n",
       "  'EndTime': datetime.datetime(2022, 7, 9, 9, 19, 40, 945000, tzinfo=tzlocal()),\n",
       "  'StepStatus': 'Succeeded',\n",
       "  'AttemptCount': 0,\n",
       "  'Metadata': {'TrainingJob': {'Arn': 'arn:aws:sagemaker:us-east-2:173863741403:training-job/pipelines-rfvats4iv8wu-train-iter0-nxmryxao7k'}}},\n",
       " {'StepName': 'train_iter2',\n",
       "  'StartTime': datetime.datetime(2022, 7, 9, 9, 15, 31, 768000, tzinfo=tzlocal()),\n",
       "  'EndTime': datetime.datetime(2022, 7, 9, 9, 19, 32, 844000, tzinfo=tzlocal()),\n",
       "  'StepStatus': 'Succeeded',\n",
       "  'AttemptCount': 0,\n",
       "  'Metadata': {'TrainingJob': {'Arn': 'arn:aws:sagemaker:us-east-2:173863741403:training-job/pipelines-rfvats4iv8wu-train-iter2-khzmnrn5tr'}}},\n",
       " {'StepName': 'train_iter3',\n",
       "  'StartTime': datetime.datetime(2022, 7, 9, 9, 15, 31, 768000, tzinfo=tzlocal()),\n",
       "  'StepStatus': 'Starting',\n",
       "  'AttemptCount': 0,\n",
       "  'Metadata': {}}]"
      ]
     },
     "execution_count": 19,
     "metadata": {},
     "output_type": "execute_result"
    }
   ],
   "source": [
    "execution.list_steps()"
   ]
  },
  {
   "cell_type": "code",
   "execution_count": 18,
   "id": "0562a3e8",
   "metadata": {},
   "outputs": [
    {
     "data": {
      "text/plain": [
       "{'PipelineArn': 'arn:aws:sagemaker:us-east-2:173863741403:pipeline/220709pipeline2',\n",
       " 'PipelineExecutionArn': 'arn:aws:sagemaker:us-east-2:173863741403:pipeline/220709pipeline2/execution/rfvats4iv8wu',\n",
       " 'PipelineExecutionDisplayName': 'execution-1657358129776',\n",
       " 'PipelineExecutionStatus': 'Executing',\n",
       " 'PipelineExperimentConfig': {'ExperimentName': '220709pipeline2',\n",
       "  'TrialName': 'rfvats4iv8wu'},\n",
       " 'CreationTime': datetime.datetime(2022, 7, 9, 9, 15, 29, 692000, tzinfo=tzlocal()),\n",
       " 'LastModifiedTime': datetime.datetime(2022, 7, 9, 9, 15, 29, 692000, tzinfo=tzlocal()),\n",
       " 'CreatedBy': {},\n",
       " 'LastModifiedBy': {},\n",
       " 'ResponseMetadata': {'RequestId': 'df595c39-9f4b-4d90-a0d8-631a6ca2cf0f',\n",
       "  'HTTPStatusCode': 200,\n",
       "  'HTTPHeaders': {'x-amzn-requestid': 'df595c39-9f4b-4d90-a0d8-631a6ca2cf0f',\n",
       "   'content-type': 'application/x-amz-json-1.1',\n",
       "   'content-length': '486',\n",
       "   'date': 'Sat, 09 Jul 2022 09:22:22 GMT'},\n",
       "  'RetryAttempts': 0}}"
      ]
     },
     "execution_count": 18,
     "metadata": {},
     "output_type": "execute_result"
    }
   ],
   "source": [
    "execution.describe()"
   ]
  },
  {
   "cell_type": "code",
   "execution_count": null,
   "id": "f840f2f0",
   "metadata": {},
   "outputs": [],
   "source": []
  }
 ],
 "metadata": {
  "kernelspec": {
   "display_name": "conda_python3",
   "language": "python",
   "name": "conda_python3"
  },
  "language_info": {
   "codemirror_mode": {
    "name": "ipython",
    "version": 3
   },
   "file_extension": ".py",
   "mimetype": "text/x-python",
   "name": "python",
   "nbconvert_exporter": "python",
   "pygments_lexer": "ipython3",
   "version": "3.8.12"
  }
 },
 "nbformat": 4,
 "nbformat_minor": 5
}
